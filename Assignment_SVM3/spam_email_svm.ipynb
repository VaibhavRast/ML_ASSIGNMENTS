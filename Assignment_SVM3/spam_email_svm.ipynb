{
 "cells": [
  {
   "cell_type": "code",
   "execution_count": 1,
   "metadata": {},
   "outputs": [],
   "source": [
    "import pandas as pd\n",
    "import numpy as np\n",
    "import matplotlib.pyplot as plt\n",
    "%matplotlib inline"
   ]
  },
  {
   "cell_type": "code",
   "execution_count": 2,
   "metadata": {},
   "outputs": [],
   "source": [
    "spammail=pd.read_csv('spambase.csv')"
   ]
  },
  {
   "cell_type": "code",
   "execution_count": 3,
   "metadata": {},
   "outputs": [],
   "source": [
    "X=spammail.drop('spam',axis=1)"
   ]
  },
  {
   "cell_type": "code",
   "execution_count": 4,
   "metadata": {},
   "outputs": [],
   "source": [
    "y=spammail['spam']"
   ]
  },
  {
   "cell_type": "code",
   "execution_count": 5,
   "metadata": {},
   "outputs": [],
   "source": [
    "from sklearn.model_selection import train_test_split\n",
    "X_train,X_test,y_train,y_test=train_test_split(X,y,test_size=0.20)"
   ]
  },
  {
   "cell_type": "code",
   "execution_count": 6,
   "metadata": {},
   "outputs": [],
   "source": [
    "#Feature scaling-standardizing features by removing mean and scaling to unit variance\n",
    "from sklearn.preprocessing import StandardScaler\n",
    "scaler_x=StandardScaler()\n",
    "X_Train=scaler_x.fit_transform(X_train)\n",
    "X_Test=scaler_x.transform(X_test)"
   ]
  },
  {
   "cell_type": "code",
   "execution_count": 7,
   "metadata": {},
   "outputs": [],
   "source": [
    "tuned_parameters_quad = [{'kernel':['poly'],'degree':[2],'C':[1,10,100,1000,10000,30000,50000]}]\n",
    "tuned_parameters_linear=[{'kernel':['linear'],'C':[1,2]}]\n",
    "tuned_parameters_rbf=[{'kernel':['rbf'],'C':[1,10,100,1000,10000,100000],'gamma':['scale','auto']}]"
   ]
  },
  {
   "cell_type": "code",
   "execution_count": 8,
   "metadata": {},
   "outputs": [],
   "source": [
    "#SVM model to predict if a mail is spam or non spam\n",
    "#In order to vary regulation parameter C and decide an optimal value, we are using an exhaustive grid search\n",
    "#C has been given the values of 1,10,100,1000 and 10000\n",
    "\n",
    "def svmmodel(tuned_parameters):\n",
    "  from sklearn.svm import SVC\n",
    "  from sklearn.model_selection import GridSearchCV\n",
    "  from sklearn.metrics import confusion_matrix\n",
    "  svclassifier = GridSearchCV(SVC(), param_grid=tuned_parameters, scoring='accuracy',verbose=10,n_jobs=-1)\n",
    "  svclassifier.fit(X_train, y_train)\n",
    "  print('Scores:')\n",
    "  means = svclassifier.cv_results_['mean_test_score']\n",
    "  stds = svclassifier.cv_results_['std_test_score']\n",
    "  for mean, std, params in zip(means, stds, svclassifier.cv_results_['params']):\n",
    "    print(\"%0.3f (+/-%0.03f) for %r\" % (mean, std * 2, params))\n",
    "    print()\n",
    "  print('Best score:')\n",
    "  print(svclassifier.best_params_)\n",
    "  y_true_test, y_predtest = y_test, svclassifier.predict(X_test)\n",
    "  y_true_train, y_predtrain = y_train, svclassifier.predict(X_train)\n",
    "  cfmatrixtrain=confusion_matrix(y_true_train,y_predtrain)\n",
    "  cfmatrixtest=confusion_matrix(y_true_test,y_predtest)\n",
    "  cfmetrics(cfmatrixtrain,cfmatrixtest)"
   ]
  },
  {
   "cell_type": "code",
   "execution_count": 9,
   "metadata": {},
   "outputs": [],
   "source": [
    "def cfmetrics(cfmatrixtrain,cfmatrixtest):  \n",
    "  print('confusion matrix for training data:')\n",
    "  print(cfmatrixtrain)\n",
    "  TN=cfmatrixtrain[0][0]\n",
    "  FN=cfmatrixtrain[1][0]\n",
    "  TP=cfmatrixtrain[1][1]\n",
    "  FP=cfmatrixtrain[0][1]\n",
    "  accuracy_train=(TN+TP)/(TN+TP+FN+FP)\n",
    "  precision_train=(TP)/(TP+FP)\n",
    "  recall_train=TP/(TP+FN)\n",
    "  print('Training accuracy')\n",
    "  print(accuracy_train)\n",
    "  print('Training precision')\n",
    "  print(precision_train)\n",
    "  print('Training recall')\n",
    "  print(recall_train)\n",
    "  print('confusion matrix for test data:')\n",
    "  print(cfmatrixtest)\n",
    "  TN=cfmatrixtest[0][0]\n",
    "  FN=cfmatrixtest[1][0]\n",
    "  TP=cfmatrixtest[1][1]\n",
    "  FP=cfmatrixtest[0][1]\n",
    "  accuracy_test=(TN+TP)/(TN+TP+FN+FP)\n",
    "  precision_test=(TP)/(TP+FP)\n",
    "  recall_test=TP/(TP+FN)\n",
    "  print('Test accuracy')\n",
    "  print(accuracy_test)\n",
    "  print('Test precision')\n",
    "  print(precision_test)\n",
    "  print('Test recall')\n",
    "  print(recall_test)"
   ]
  },
  {
   "cell_type": "code",
   "execution_count": 10,
   "metadata": {
    "scrolled": true
   },
   "outputs": [
    {
     "name": "stdout",
     "output_type": "stream",
     "text": [
      "Fitting 5 folds for each of 2 candidates, totalling 10 fits\n"
     ]
    },
    {
     "name": "stderr",
     "output_type": "stream",
     "text": [
      "[Parallel(n_jobs=-1)]: Using backend LokyBackend with 4 concurrent workers.\n",
      "[Parallel(n_jobs=-1)]: Done   5 out of  10 | elapsed: 38.1min remaining: 38.1min\n",
      "[Parallel(n_jobs=-1)]: Done   7 out of  10 | elapsed: 52.3min remaining: 22.4min\n",
      "[Parallel(n_jobs=-1)]: Done  10 out of  10 | elapsed: 59.3min finished\n"
     ]
    },
    {
     "name": "stdout",
     "output_type": "stream",
     "text": [
      "Scores:\n",
      "0.926 (+/-0.009) for {'C': 1, 'kernel': 'linear'}\n",
      "\n",
      "0.925 (+/-0.012) for {'C': 2, 'kernel': 'linear'}\n",
      "\n",
      "Best score:\n",
      "{'C': 1, 'kernel': 'linear'}\n",
      "confusion matrix for training data:\n",
      "[[2143  101]\n",
      " [ 146 1290]]\n",
      "Training accuracy\n",
      "0.9328804347826087\n",
      "Training precision\n",
      "0.9273903666427031\n",
      "Training recall\n",
      "0.8983286908077994\n",
      "confusion matrix for test data:\n",
      "[[516  28]\n",
      " [ 34 343]]\n",
      "Test accuracy\n",
      "0.9326818675352877\n",
      "Test precision\n",
      "0.9245283018867925\n",
      "Test recall\n",
      "0.9098143236074271\n"
     ]
    }
   ],
   "source": [
    "#Linear kernel function for SVM\n",
    "svmmodel(tuned_parameters_linear)"
   ]
  },
  {
   "cell_type": "code",
   "execution_count": 11,
   "metadata": {},
   "outputs": [
    {
     "name": "stdout",
     "output_type": "stream",
     "text": [
      "Fitting 5 folds for each of 7 candidates, totalling 35 fits\n"
     ]
    },
    {
     "name": "stderr",
     "output_type": "stream",
     "text": [
      "[Parallel(n_jobs=-1)]: Using backend LokyBackend with 4 concurrent workers.\n",
      "[Parallel(n_jobs=-1)]: Done   5 tasks      | elapsed:    6.8s\n",
      "[Parallel(n_jobs=-1)]: Done  10 tasks      | elapsed:   23.5s\n",
      "[Parallel(n_jobs=-1)]: Done  17 tasks      | elapsed:   56.8s\n",
      "[Parallel(n_jobs=-1)]: Done  24 tasks      | elapsed:  1.6min\n",
      "[Parallel(n_jobs=-1)]: Done  32 out of  35 | elapsed:  4.6min remaining:   25.9s\n",
      "[Parallel(n_jobs=-1)]: Done  35 out of  35 | elapsed:  6.8min finished\n"
     ]
    },
    {
     "name": "stdout",
     "output_type": "stream",
     "text": [
      "Scores:\n",
      "0.670 (+/-0.013) for {'C': 1, 'degree': 2, 'kernel': 'poly'}\n",
      "\n",
      "0.678 (+/-0.024) for {'C': 10, 'degree': 2, 'kernel': 'poly'}\n",
      "\n",
      "0.708 (+/-0.019) for {'C': 100, 'degree': 2, 'kernel': 'poly'}\n",
      "\n",
      "0.770 (+/-0.023) for {'C': 1000, 'degree': 2, 'kernel': 'poly'}\n",
      "\n",
      "0.833 (+/-0.024) for {'C': 10000, 'degree': 2, 'kernel': 'poly'}\n",
      "\n",
      "0.854 (+/-0.025) for {'C': 30000, 'degree': 2, 'kernel': 'poly'}\n",
      "\n",
      "0.867 (+/-0.025) for {'C': 50000, 'degree': 2, 'kernel': 'poly'}\n",
      "\n",
      "Best score:\n",
      "{'C': 50000, 'degree': 2, 'kernel': 'poly'}\n",
      "confusion matrix for training data:\n",
      "[[2182   62]\n",
      " [ 403 1033]]\n",
      "Training accuracy\n",
      "0.873641304347826\n",
      "Training precision\n",
      "0.94337899543379\n",
      "Training recall\n",
      "0.7193593314763231\n",
      "confusion matrix for test data:\n",
      "[[530  14]\n",
      " [ 93 284]]\n",
      "Test accuracy\n",
      "0.8838219326818675\n",
      "Test precision\n",
      "0.9530201342281879\n",
      "Test recall\n",
      "0.753315649867374\n"
     ]
    }
   ],
   "source": [
    "#Quadratic kernel function for SVM\n",
    "svmmodel(tuned_parameters_quad)"
   ]
  },
  {
   "cell_type": "code",
   "execution_count": 12,
   "metadata": {},
   "outputs": [
    {
     "name": "stdout",
     "output_type": "stream",
     "text": [
      "Fitting 5 folds for each of 12 candidates, totalling 60 fits\n"
     ]
    },
    {
     "name": "stderr",
     "output_type": "stream",
     "text": [
      "[Parallel(n_jobs=-1)]: Using backend LokyBackend with 4 concurrent workers.\n",
      "[Parallel(n_jobs=-1)]: Done   5 tasks      | elapsed:    9.6s\n",
      "[Parallel(n_jobs=-1)]: Done  10 tasks      | elapsed:   12.3s\n",
      "[Parallel(n_jobs=-1)]: Done  17 tasks      | elapsed:   16.9s\n",
      "[Parallel(n_jobs=-1)]: Done  24 tasks      | elapsed:   20.3s\n",
      "[Parallel(n_jobs=-1)]: Done  33 tasks      | elapsed:   25.9s\n",
      "[Parallel(n_jobs=-1)]: Done  42 tasks      | elapsed:   33.7s\n",
      "[Parallel(n_jobs=-1)]: Done  53 tasks      | elapsed:   54.9s\n",
      "[Parallel(n_jobs=-1)]: Done  60 out of  60 | elapsed:  1.1min remaining:    0.0s\n",
      "[Parallel(n_jobs=-1)]: Done  60 out of  60 | elapsed:  1.1min finished\n"
     ]
    },
    {
     "name": "stdout",
     "output_type": "stream",
     "text": [
      "Scores:\n",
      "0.706 (+/-0.025) for {'C': 1, 'gamma': 'scale', 'kernel': 'rbf'}\n",
      "\n",
      "0.821 (+/-0.025) for {'C': 1, 'gamma': 'auto', 'kernel': 'rbf'}\n",
      "\n",
      "0.732 (+/-0.015) for {'C': 10, 'gamma': 'scale', 'kernel': 'rbf'}\n",
      "\n",
      "0.845 (+/-0.020) for {'C': 10, 'gamma': 'auto', 'kernel': 'rbf'}\n",
      "\n",
      "0.811 (+/-0.020) for {'C': 100, 'gamma': 'scale', 'kernel': 'rbf'}\n",
      "\n",
      "0.840 (+/-0.019) for {'C': 100, 'gamma': 'auto', 'kernel': 'rbf'}\n",
      "\n",
      "0.897 (+/-0.008) for {'C': 1000, 'gamma': 'scale', 'kernel': 'rbf'}\n",
      "\n",
      "0.835 (+/-0.016) for {'C': 1000, 'gamma': 'auto', 'kernel': 'rbf'}\n",
      "\n",
      "0.925 (+/-0.009) for {'C': 10000, 'gamma': 'scale', 'kernel': 'rbf'}\n",
      "\n",
      "0.835 (+/-0.016) for {'C': 10000, 'gamma': 'auto', 'kernel': 'rbf'}\n",
      "\n",
      "0.933 (+/-0.012) for {'C': 100000, 'gamma': 'scale', 'kernel': 'rbf'}\n",
      "\n",
      "0.835 (+/-0.016) for {'C': 100000, 'gamma': 'auto', 'kernel': 'rbf'}\n",
      "\n",
      "Best score:\n",
      "{'C': 100000, 'gamma': 'scale', 'kernel': 'rbf'}\n",
      "confusion matrix for training data:\n",
      "[[2165   79]\n",
      " [ 113 1323]]\n",
      "Training accuracy\n",
      "0.9478260869565217\n",
      "Training precision\n",
      "0.9436519258202568\n",
      "Training recall\n",
      "0.9213091922005571\n",
      "confusion matrix for test data:\n",
      "[[522  22]\n",
      " [ 27 350]]\n",
      "Test accuracy\n",
      "0.9467969598262758\n",
      "Test precision\n",
      "0.9408602150537635\n",
      "Test recall\n",
      "0.9283819628647215\n"
     ]
    }
   ],
   "source": [
    "#RBF kernel function for SVM\n",
    "svmmodel(tuned_parameters_rbf)"
   ]
  },
  {
   "cell_type": "code",
   "execution_count": 13,
   "metadata": {},
   "outputs": [
    {
     "name": "stdout",
     "output_type": "stream",
     "text": [
      "Fitting 5 folds for each of 12 candidates, totalling 60 fits\n"
     ]
    },
    {
     "name": "stderr",
     "output_type": "stream",
     "text": [
      "[Parallel(n_jobs=-1)]: Using backend LokyBackend with 4 concurrent workers.\n",
      "[Parallel(n_jobs=-1)]: Done   5 tasks      | elapsed:    3.8s\n",
      "[Parallel(n_jobs=-1)]: Done  10 tasks      | elapsed:    6.4s\n",
      "[Parallel(n_jobs=-1)]: Done  17 tasks      | elapsed:   11.3s\n",
      "[Parallel(n_jobs=-1)]: Done  24 tasks      | elapsed:   14.7s\n",
      "[Parallel(n_jobs=-1)]: Done  33 tasks      | elapsed:   20.5s\n",
      "[Parallel(n_jobs=-1)]: Done  42 tasks      | elapsed:   28.1s\n",
      "[Parallel(n_jobs=-1)]: Done  53 tasks      | elapsed:   49.3s\n",
      "[Parallel(n_jobs=-1)]: Done  60 out of  60 | elapsed:   58.5s remaining:    0.0s\n",
      "[Parallel(n_jobs=-1)]: Done  60 out of  60 | elapsed:   58.5s finished\n"
     ]
    },
    {
     "name": "stdout",
     "output_type": "stream",
     "text": [
      "Scores:\n",
      "0.706 (+/-0.025) for {'C': 1, 'gamma': 'scale', 'kernel': 'rbf'}\n",
      "\n",
      "0.821 (+/-0.025) for {'C': 1, 'gamma': 'auto', 'kernel': 'rbf'}\n",
      "\n",
      "0.732 (+/-0.015) for {'C': 10, 'gamma': 'scale', 'kernel': 'rbf'}\n",
      "\n",
      "0.845 (+/-0.020) for {'C': 10, 'gamma': 'auto', 'kernel': 'rbf'}\n",
      "\n",
      "0.811 (+/-0.020) for {'C': 100, 'gamma': 'scale', 'kernel': 'rbf'}\n",
      "\n",
      "0.840 (+/-0.019) for {'C': 100, 'gamma': 'auto', 'kernel': 'rbf'}\n",
      "\n",
      "0.897 (+/-0.008) for {'C': 1000, 'gamma': 'scale', 'kernel': 'rbf'}\n",
      "\n",
      "0.835 (+/-0.016) for {'C': 1000, 'gamma': 'auto', 'kernel': 'rbf'}\n",
      "\n",
      "0.925 (+/-0.009) for {'C': 10000, 'gamma': 'scale', 'kernel': 'rbf'}\n",
      "\n",
      "0.835 (+/-0.016) for {'C': 10000, 'gamma': 'auto', 'kernel': 'rbf'}\n",
      "\n",
      "0.933 (+/-0.012) for {'C': 100000, 'gamma': 'scale', 'kernel': 'rbf'}\n",
      "\n",
      "0.835 (+/-0.016) for {'C': 100000, 'gamma': 'auto', 'kernel': 'rbf'}\n",
      "\n",
      "Best score:\n",
      "{'C': 100000, 'gamma': 'scale', 'kernel': 'rbf'}\n",
      "confusion matrix for training data:\n",
      "[[2165   79]\n",
      " [ 113 1323]]\n",
      "Training accuracy\n",
      "0.9478260869565217\n",
      "Training precision\n",
      "0.9436519258202568\n",
      "Training recall\n",
      "0.9213091922005571\n",
      "confusion matrix for test data:\n",
      "[[522  22]\n",
      " [ 27 350]]\n",
      "Test accuracy\n",
      "0.9467969598262758\n",
      "Test precision\n",
      "0.9408602150537635\n",
      "Test recall\n",
      "0.9283819628647215\n"
     ]
    }
   ],
   "source": [
    "#RBF kernel function for SVM\n",
    "svmmodel(tuned_parameters_rbf)"
   ]
  },
  {
   "cell_type": "code",
   "execution_count": 14,
   "metadata": {},
   "outputs": [
    {
     "name": "stdout",
     "output_type": "stream",
     "text": [
      "Fitting 5 folds for each of 2 candidates, totalling 10 fits\n"
     ]
    },
    {
     "name": "stderr",
     "output_type": "stream",
     "text": [
      "[Parallel(n_jobs=-1)]: Using backend LokyBackend with 4 concurrent workers.\n",
      "[Parallel(n_jobs=-1)]: Done   5 out of  10 | elapsed:  3.2min remaining:  3.2min\n",
      "[Parallel(n_jobs=-1)]: Done   7 out of  10 | elapsed: 15.4min remaining:  6.6min\n",
      "[Parallel(n_jobs=-1)]: Done  10 out of  10 | elapsed: 21.4min finished\n"
     ]
    },
    {
     "name": "stdout",
     "output_type": "stream",
     "text": [
      "Scores:\n",
      "0.921 (+/-0.019) for {'C': 0.1, 'kernel': 'linear'}\n",
      "\n",
      "0.926 (+/-0.009) for {'C': 1, 'kernel': 'linear'}\n",
      "\n",
      "Best score:\n",
      "{'C': 1, 'kernel': 'linear'}\n",
      "confusion matrix for training data:\n",
      "[[2143  101]\n",
      " [ 146 1290]]\n",
      "Training accuracy\n",
      "0.9328804347826087\n",
      "Training precision\n",
      "0.9273903666427031\n",
      "Training recall\n",
      "0.8983286908077994\n",
      "confusion matrix for test data:\n",
      "[[516  28]\n",
      " [ 34 343]]\n",
      "Test accuracy\n",
      "0.9326818675352877\n",
      "Test precision\n",
      "0.9245283018867925\n",
      "Test recall\n",
      "0.9098143236074271\n"
     ]
    }
   ],
   "source": [
    "tuned_parameters_linear=[{'kernel':['linear'],'C':[0.1,1]}]\n",
    "svmmodel(tuned_parameters_linear)"
   ]
  }
 ],
 "metadata": {
  "kernelspec": {
   "display_name": "Python 3",
   "language": "python",
   "name": "python3"
  },
  "language_info": {
   "codemirror_mode": {
    "name": "ipython",
    "version": 3
   },
   "file_extension": ".py",
   "mimetype": "text/x-python",
   "name": "python",
   "nbconvert_exporter": "python",
   "pygments_lexer": "ipython3",
   "version": "3.8.2"
  }
 },
 "nbformat": 4,
 "nbformat_minor": 4
}
